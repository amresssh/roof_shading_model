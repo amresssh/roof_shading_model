{
 "cells": [
  {
   "cell_type": "code",
   "execution_count": 51,
   "id": "f9c9a66e-53bc-4495-89bb-986757eecb91",
   "metadata": {},
   "outputs": [],
   "source": [
    "import tensorflow as tf\n",
    "from tensorflow.keras.models import model_from_json\n",
    "from flask import Flask, render_template, request\n",
    "import numpy as np\n",
    "from keras.models import load_model\n",
    "import pickle\n",
    "import tensorflow as tf\n",
    "# # Load the model architecture from JSON file\n",
    "# with open('my_keras_model.json', 'r') as json_file:\n",
    "#     loaded_model_json = json_file.read()\n",
    "# loaded_model = model_from_json(loaded_model_json)\n",
    "\n",
    "# # Load the model weights\n",
    "# loaded_model.load_weights(\"my_keras_model_weights.h5\")\n",
    "\n",
    "# # Now you can use the loaded model for predictions\n"
   ]
  },
  {
   "cell_type": "code",
   "execution_count": 52,
   "id": "903344c4-af50-4bf0-8185-4827faf670c2",
   "metadata": {},
   "outputs": [],
   "source": [
    "import pickle\n",
    "preprocessing_pipe = pickle.load(open('pipepreprocessingu_val.pkl', 'rb'))\n",
    "loaded_model=load_model('my_uval_model.keras')\n"
   ]
  },
  {
   "cell_type": "code",
   "execution_count": 53,
   "id": "f331af75-c8cd-490d-b11b-25c5dda6b00f",
   "metadata": {},
   "outputs": [],
   "source": [
    "import numpy as np"
   ]
  },
  {
   "cell_type": "code",
   "execution_count": 59,
   "id": "797c3386-f42c-4374-b49c-12c2b824c513",
   "metadata": {},
   "outputs": [
    {
     "name": "stdout",
     "output_type": "stream",
     "text": [
      "Preprocessed input data:\n",
      "[[0.39602248 0.17278839 0.88421053]]\n"
     ]
    },
    {
     "name": "stderr",
     "output_type": "stream",
     "text": [
      "C:\\Users\\Amresh Gupta\\AppData\\Roaming\\Python\\Python39\\site-packages\\sklearn\\base.py:493: UserWarning: X does not have valid feature names, but MinMaxScaler was fitted with feature names\n",
      "  warnings.warn(\n"
     ]
    }
   ],
   "source": [
    "import numpy as np\n",
    "from keras.models import load_model\n",
    "import pickle\n",
    "import tensorflow as tf\n",
    "\n",
    "# Load preprocessed pipeline\n",
    "# Load Keras model\n",
    "\n",
    "# Function to prompt user for input and make predictions\n",
    "def make_prediction():\n",
    "    # Prompt user for input\n",
    "    # climaticZone = str(input(\"Enter climatic zone: \"))\n",
    "    # latitude = float(input(\"Enter latitude: \"))\n",
    "    # longitude = float(input(\"Enter longitude: \"))\n",
    "    # shadeExtent = float(input(\"Enter shade extent: \"))\n",
    "    # roofUValue = float(input(\"Enter roof U-value: \"))\n",
    "    # heightOfShade = float(input(\"Enter height of shade: \"))\n",
    "    # shadingTransmittance = float(input(\"Enter shading transmittance: \"))\n",
    "    # buildingOrientation = float(input(\"Enter building orientation: \"))\n",
    "    # shadeDirection = str(input(\"Enter shade direction: \"))\n",
    "\n",
    "    \n",
    "    latitude = 17.67\n",
    "    longitude = 75.91\n",
    "    savings=18\n",
    "    \n",
    "    \n",
    "    # Create input data array\n",
    "    input_data = np.array([latitude, longitude,savings]).reshape(1, -1)\n",
    "    preprocessed_input = preprocessing_pipe.transform(input_data)\n",
    "    return preprocessed_input\n",
    "preprocessed_input=make_prediction()\n",
    "print(\"Preprocessed input data:\")\n",
    "print(preprocessed_input)\n",
    "#     # Make predictions\n",
    "#     result = keras_model.predict(preprocessed_input)\n",
    "\n",
    "#     return result[0][0]\n",
    "\n",
    "# # Call the function to make a prediction\n",
    "# prediction = make_prediction()  West\n",
    "\n",
    "# print(\"Predicted result:\", prediction)\n"
   ]
  },
  {
   "cell_type": "code",
   "execution_count": 60,
   "id": "f6794e85-0c72-4434-8f5e-edc3d7d86587",
   "metadata": {},
   "outputs": [
    {
     "data": {
      "text/plain": [
       "dtype('float64')"
      ]
     },
     "execution_count": 60,
     "metadata": {},
     "output_type": "execute_result"
    }
   ],
   "source": [
    "preprocessed_input.dtype"
   ]
  },
  {
   "cell_type": "code",
   "execution_count": 61,
   "id": "9bb6b026-ef2b-494d-b7e9-6abaab2858d6",
   "metadata": {},
   "outputs": [
    {
     "data": {
      "text/plain": [
       "dtype('float64')"
      ]
     },
     "execution_count": 61,
     "metadata": {},
     "output_type": "execute_result"
    }
   ],
   "source": [
    "preprocessed_input = preprocessed_input.astype(np.float64)\n",
    "preprocessed_input.dtype"
   ]
  },
  {
   "cell_type": "code",
   "execution_count": 62,
   "id": "ac4213be-87a5-47c1-b4de-f7e44c5c2a6f",
   "metadata": {},
   "outputs": [
    {
     "data": {
      "text/plain": [
       "array([[0.39602248, 0.17278839, 0.88421053]])"
      ]
     },
     "execution_count": 62,
     "metadata": {},
     "output_type": "execute_result"
    }
   ],
   "source": [
    "preprocessed_input"
   ]
  },
  {
   "cell_type": "code",
   "execution_count": 63,
   "id": "736df76d-9996-433b-9fe0-3d2fbc046ab9",
   "metadata": {},
   "outputs": [
    {
     "name": "stdout",
     "output_type": "stream",
     "text": [
      "1/1 [==============================] - 0s 17ms/step\n"
     ]
    },
    {
     "data": {
      "text/plain": [
       "0.7952397"
      ]
     },
     "execution_count": 63,
     "metadata": {},
     "output_type": "execute_result"
    }
   ],
   "source": [
    "# Make predictions\n",
    "result = loaded_model.predict(preprocessed_input)\n",
    "result[0][0]"
   ]
  },
  {
   "cell_type": "code",
   "execution_count": null,
   "id": "ea0f42bf-d41d-48ec-9dc8-ee9af8ee3d2b",
   "metadata": {},
   "outputs": [],
   "source": []
  },
  {
   "cell_type": "code",
   "execution_count": null,
   "id": "cf08178f-a9d8-49f1-b349-d9c2f3c029e8",
   "metadata": {},
   "outputs": [],
   "source": []
  },
  {
   "cell_type": "code",
   "execution_count": null,
   "id": "bcb8c80e-725d-4d6e-9b6e-b6dda01cccaa",
   "metadata": {},
   "outputs": [],
   "source": []
  },
  {
   "cell_type": "code",
   "execution_count": 14,
   "id": "40e7b8bc-f127-4e15-971a-fe2af18d5c3a",
   "metadata": {},
   "outputs": [],
   "source": [
    "import numpy as np\n",
    "import pandas as pd\n",
    "import numpy as np\n",
    "import pandas as pd\n",
    "import seaborn as sns\n",
    "import matplotlib.pyplot as plt\n",
    "from sklearn.compose import ColumnTransformer\n",
    "from sklearn.preprocessing import StandardScaler\n",
    "from sklearn.model_selection import train_test_split\n",
    "from sklearn.metrics import r2_score\n",
    "import tensorflow as tf\n",
    "from sklearn.pipeline import Pipeline,make_pipeline\n",
    "from sklearn.preprocessing import OneHotEncoder\n",
    "from sklearn.preprocessing import OrdinalEncoder\n"
   ]
  },
  {
   "cell_type": "code",
   "execution_count": 15,
   "id": "9fcac2d3-09c9-414b-87cb-28a22c6c0a65",
   "metadata": {},
   "outputs": [],
   "source": [
    "raw_data=pd.read_csv('12.01.2024 Wakanda Final for analysis _CSV format1.csv')"
   ]
  },
  {
   "cell_type": "code",
   "execution_count": 60,
   "id": "7899a7b3-3a94-4567-8d18-0d3aa23d75dc",
   "metadata": {},
   "outputs": [],
   "source": [
    "raw_data.rename(columns={'Top floor C&H savings (%)': 'savings'}, inplace= True)\n",
    "savings_per=raw_data.savings.str.replace('%','').astype('float')\n",
    "raw_data['Savings_Percentage']=savings_per"
   ]
  },
  {
   "cell_type": "code",
   "execution_count": 61,
   "id": "f3648f3e-0c46-4d31-9122-aa014f9aa515",
   "metadata": {},
   "outputs": [],
   "source": [
    "columns_name=[ '#','City','c0: Total Energy', 'Total Energy Savings (%)',\n",
    "       'c1: Total Cooling', 'Top Floor_Total Cooling',\n",
    "       'Top Floor_Total Heating', 'Top Floor _ total C&H', 'savings',\n",
    "       'Topfloor Cooling Savings (%)']\n",
    "raw_data.drop(columns_name,axis=1,inplace=True)\n"
   ]
  },
  {
   "cell_type": "code",
   "execution_count": 62,
   "id": "13e990bf-3e88-42dc-a3b3-838526f2036d",
   "metadata": {},
   "outputs": [],
   "source": [
    "raw_data['Building Orientation']=raw_data['Building Orientation'].astype(str)"
   ]
  },
  {
   "cell_type": "code",
   "execution_count": 63,
   "id": "dccc150f-e87a-4734-9d49-081f19146761",
   "metadata": {},
   "outputs": [
    {
     "data": {
      "text/plain": [
       "Index(['Climatic Zone', 'Shade Direction', 'Building Orientation',\n",
       "       'Latitude (Deg North)', 'Longitude (Deg East)', 'Shade extent ',\n",
       "       'Roof U-Value (W/m2K)', 'Height of Shade (m)', 'Shading Transmittance',\n",
       "       'Savings_Percentage'],\n",
       "      dtype='object')"
      ]
     },
     "execution_count": 63,
     "metadata": {},
     "output_type": "execute_result"
    }
   ],
   "source": [
    "raw_data.columns"
   ]
  },
  {
   "cell_type": "code",
   "execution_count": 64,
   "id": "97f0437f-a0d2-4ada-94c8-1427085e1d97",
   "metadata": {},
   "outputs": [],
   "source": [
    "X_train, X_test, y_train, y_test = train_test_split(raw_data.drop(columns=['Savings_Percentage']),raw_data['Savings_Percentage'], test_size = 0.08, random_state = 0,stratify=raw_data['Savings_Percentage'])"
   ]
  },
  {
   "cell_type": "code",
   "execution_count": 65,
   "id": "0b4f5bb0-7756-4fc0-a114-869cfe3ab9f2",
   "metadata": {},
   "outputs": [],
   "source": [
    "preprocessed_x_train=preprocessing_pipe.transform(X_train)"
   ]
  },
  {
   "cell_type": "code",
   "execution_count": 66,
   "id": "4321c115-5d15-4477-9b3f-0602c94b679d",
   "metadata": {},
   "outputs": [
    {
     "name": "stdout",
     "output_type": "stream",
     "text": [
      "17222/17222 [==============================] - 15s 893us/step\n"
     ]
    }
   ],
   "source": [
    "result = loaded_model.predict(preprocessed_x_train)\n"
   ]
  },
  {
   "cell_type": "code",
   "execution_count": 67,
   "id": "236e419f-0577-440f-81a0-452e8db3619f",
   "metadata": {},
   "outputs": [
    {
     "name": "stdout",
     "output_type": "stream",
     "text": [
      "Mean Absolute Error: 0.39644298833977376\n",
      "Mean Squared Error: 0.2798038849667943\n",
      "R-squared: 0.9974967966154514\n"
     ]
    }
   ],
   "source": [
    "from sklearn.metrics import mean_absolute_error, mean_squared_error, r2_score\n",
    "\n",
    "# Assuming y_pred contains your predicted values\n",
    "mae = mean_absolute_error(y_train, result)\n",
    "mse = mean_squared_error(y_train,result)\n",
    "r2 = r2_score(y_train, result)\n",
    "\n",
    "print(\"Mean Absolute Error:\", mae)\n",
    "print(\"Mean Squared Error:\", mse)\n",
    "print(\"R-squared:\", r2)\n"
   ]
  },
  {
   "cell_type": "code",
   "execution_count": 73,
   "id": "3b96358c-0ba2-49bc-b644-ce4fbfc0c925",
   "metadata": {},
   "outputs": [],
   "source": [
    "kk = raw_data['Latitude (Deg North)'].unique()\n"
   ]
  },
  {
   "cell_type": "code",
   "execution_count": 74,
   "id": "85245b86-9bab-4314-8c8f-126fa839700a",
   "metadata": {},
   "outputs": [
    {
     "data": {
      "text/plain": [
       "array([17.67, 19.88, 23.26, 26.85, 28.61, 31.64, 30.32, 18.52, 21.17,\n",
       "       23.03, 24.58, 26.92, 28.02, 15.14, 17.38, 21.15, 12.97,  8.51,\n",
       "       10.79, 12.92, 13.08, 17.69, 15.49, 19.07, 22.57, 25.57])"
      ]
     },
     "execution_count": 74,
     "metadata": {},
     "output_type": "execute_result"
    }
   ],
   "source": [
    "kk"
   ]
  },
  {
   "cell_type": "code",
   "execution_count": 75,
   "id": "5ca6723f-4d37-4c6f-bcd1-d46b92a79f11",
   "metadata": {},
   "outputs": [],
   "source": [
    "jj = raw_data['Longitude (Deg East)'].unique()\n"
   ]
  },
  {
   "cell_type": "code",
   "execution_count": 76,
   "id": "30d37096-53b4-4c0c-912a-3ddb25e36839",
   "metadata": {},
   "outputs": [
    {
     "data": {
      "text/plain": [
       "array([75.9064, 75.3433, 77.4126, 80.9462, 77.209 , 74.8737, 78.0322,\n",
       "       73.8567, 72.8311, 72.5714, 73.7125, 75.7873, 73.3119, 76.9214,\n",
       "       78.4867, 79.0882, 77.5946, 76.9366, 78.7047, 74.856 , 80.2707,\n",
       "       83.2185, 73.8278, 72.8777, 88.3639, 91.8933])"
      ]
     },
     "execution_count": 76,
     "metadata": {},
     "output_type": "execute_result"
    }
   ],
   "source": [
    "jj"
   ]
  },
  {
   "cell_type": "code",
   "execution_count": 77,
   "id": "3974c3a4-9ac6-44f1-917b-331de6eab592",
   "metadata": {},
   "outputs": [],
   "source": [
    "kk = [17.67, 19.88, 23.26, 26.85, 28.61, 31.64, 30.32, 18.52, 21.17,\n",
    "       23.03, 24.58, 26.92, 28.02, 15.14, 17.38, 21.15, 12.97,  8.51,\n",
    "       10.79, 12.92, 13.08, 17.69, 15.49, 19.07, 22.57, 25.57]\n",
    "jj=[75.9064, 75.3433, 77.4126, 80.9462, 77.209 , 74.8737, 78.0322,\n",
    "       73.8567, 72.8311, 72.5714, 73.7125, 75.7873, 73.3119, 76.9214,\n",
    "       78.4867, 79.0882, 77.5946, 76.9366, 78.7047, 74.856 , 80.2707,\n",
    "       83.2185, 73.8278, 72.8777, 88.3639, 91.8933]\n",
    "r=22.8 j=75\n",
    "'i want to return cmbined nearest both values'\n",
    "r_modified=nearestof([kk])\n",
    "j_modified=nearestof([jj])"
   ]
  },
  {
   "cell_type": "code",
   "execution_count": 79,
   "id": "912d5b58-a490-409c-b642-c3dca9642fbc",
   "metadata": {},
   "outputs": [
    {
     "name": "stdout",
     "output_type": "stream",
     "text": [
      "23.03\n"
     ]
    }
   ],
   "source": [
    "import numpy as np\n",
    "\n",
    "# Assuming kk is the array of unique latitude values\n",
    "kk = raw_data['Latitude (Deg North)'].unique()\n",
    "\n",
    "# Given value\n",
    "r = 22.8\n",
    "\n",
    "# Calculate absolute differences\n",
    "differences = np.abs(kk - r)\n",
    "\n",
    "# Find the index of the minimum difference\n",
    "nearest_index = np.argmin(differences)\n",
    "\n",
    "# Nearest value\n",
    "nearest_value = kk[nearest_index]\n",
    "\n",
    "# Print the nearest value"
   ]
  },
  {
   "cell_type": "code",
   "execution_count": 87,
   "id": "cf2d2d3f-1424-4f56-8ae0-1d431a41f642",
   "metadata": {},
   "outputs": [
    {
     "name": "stdout",
     "output_type": "stream",
     "text": [
      "r 19.88\n"
     ]
    }
   ],
   "source": [
    "import numpy as np\n",
    "\n",
    "def combined_nearest_values(value1, value2):\n",
    "    \"\"\"Find the combined nearest values from two arrays.\"\"\"\n",
    "    arr1 = np.array([17.67, 19.88, 23.26, 26.85, 28.61, 31.64, 30.32, 18.52, 21.17,\n",
    "               23.03, 24.58, 26.92, 28.02, 15.14, 17.38, 21.15, 12.97,  8.51,\n",
    "               10.79, 12.92, 13.08, 17.69, 15.49, 19.07, 22.57, 25.57])\n",
    "    arr2 = np.array([75.9064, 75.3433, 77.4126, 80.9462, 77.209 , 74.8737, 78.0322,\n",
    "               73.8567, 72.8311, 72.5714, 73.7125, 75.7873, 73.3119, 76.9214,\n",
    "               78.4867, 79.0882, 77.5946, 76.9366, 78.7047, 74.856 , 80.2707,\n",
    "               83.2185, 73.8278, 72.8777, 88.3639, 91.8933])\n",
    "    \n",
    "    min_diff = float('inf')\n",
    "    nearest_combined_values = None\n",
    "    \n",
    "    for v1 in arr1:\n",
    "        for v2 in arr2:\n",
    "            diff = abs(v1 - value1) + abs(v2 - value2)\n",
    "            if diff < min_diff:\n",
    "                min_diff = diff\n",
    "                nearest_combined_values = (v1, v2)\n",
    "    \n",
    "    return nearest_combined_values\n",
    "r = 20.0  \n",
    "j = 80.0  \n",
    "r,j = combined_nearest_values(r,j)\n",
    "\n",
    "\n"
   ]
  },
  {
   "cell_type": "code",
   "execution_count": 81,
   "id": "c41b0679-e4e1-489c-8da2-e5143d085bf6",
   "metadata": {},
   "outputs": [
    {
     "data": {
      "text/plain": [
       "20.0"
      ]
     },
     "execution_count": 81,
     "metadata": {},
     "output_type": "execute_result"
    }
   ],
   "source": [
    "r"
   ]
  },
  {
   "cell_type": "code",
   "execution_count": null,
   "id": "85545886-ea10-4a6e-99d5-49561120e6e8",
   "metadata": {},
   "outputs": [],
   "source": []
  }
 ],
 "metadata": {
  "kernelspec": {
   "display_name": "Python 3 (ipykernel)",
   "language": "python",
   "name": "python3"
  },
  "language_info": {
   "codemirror_mode": {
    "name": "ipython",
    "version": 3
   },
   "file_extension": ".py",
   "mimetype": "text/x-python",
   "name": "python",
   "nbconvert_exporter": "python",
   "pygments_lexer": "ipython3",
   "version": "3.9.18"
  }
 },
 "nbformat": 4,
 "nbformat_minor": 5
}
